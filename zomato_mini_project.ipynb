{
  "nbformat": 4,
  "nbformat_minor": 0,
  "metadata": {
    "colab": {
      "name": "zomato_mini_project.ipynb",
      "provenance": [],
      "include_colab_link": true
    },
    "kernelspec": {
      "name": "python3",
      "display_name": "Python 3"
    },
    "language_info": {
      "name": "python"
    }
  },
  "cells": [
    {
      "cell_type": "markdown",
      "metadata": {
        "id": "view-in-github",
        "colab_type": "text"
      },
      "source": [
        "<a href=\"https://colab.research.google.com/github/Harususan/Exploratory-Data-Analysis/blob/main/zomato_mini_project.ipynb\" target=\"_parent\"><img src=\"https://colab.research.google.com/assets/colab-badge.svg\" alt=\"Open In Colab\"/></a>"
      ]
    },
    {
      "cell_type": "code",
      "metadata": {
        "id": "hYF1r-i5rBWH"
      },
      "source": [
        "import numpy as np\n",
        "import pandas as pd\n",
        "import matplotlib.pyplot as plt\n",
        "import seaborn as sns"
      ],
      "execution_count": null,
      "outputs": []
    },
    {
      "cell_type": "code",
      "metadata": {
        "id": "De48n0ovrcEw"
      },
      "source": [
        "zomato = pd.read_csv(\"/content/drive/MyDrive/zomatofinal.csv\")"
      ],
      "execution_count": null,
      "outputs": []
    },
    {
      "cell_type": "code",
      "metadata": {
        "colab": {
          "base_uri": "https://localhost:8080/"
        },
        "id": "--EL7W5zROOC",
        "outputId": "a68f8ffa-3aef-4a55-e655-5ca5a73482dc"
      },
      "source": [
        "from google.colab import drive\n",
        "drive.mount('/content/drive')"
      ],
      "execution_count": null,
      "outputs": [
        {
          "output_type": "stream",
          "name": "stdout",
          "text": [
            "Mounted at /content/drive\n"
          ]
        }
      ]
    },
    {
      "cell_type": "code",
      "metadata": {
        "colab": {
          "base_uri": "https://localhost:8080/",
          "height": 304
        },
        "id": "8zR0-l4Trgn_",
        "outputId": "8f95dc2c-e0ca-424b-a8d7-b3831d2e5213"
      },
      "source": [
        "zomato.head()"
      ],
      "execution_count": null,
      "outputs": [
        {
          "output_type": "execute_result",
          "data": {
            "text/html": [
              "<div>\n",
              "<style scoped>\n",
              "    .dataframe tbody tr th:only-of-type {\n",
              "        vertical-align: middle;\n",
              "    }\n",
              "\n",
              "    .dataframe tbody tr th {\n",
              "        vertical-align: top;\n",
              "    }\n",
              "\n",
              "    .dataframe thead th {\n",
              "        text-align: right;\n",
              "    }\n",
              "</style>\n",
              "<table border=\"1\" class=\"dataframe\">\n",
              "  <thead>\n",
              "    <tr style=\"text-align: right;\">\n",
              "      <th></th>\n",
              "      <th>Unnamed: 0</th>\n",
              "      <th>Restaurant Name</th>\n",
              "      <th>Type 1</th>\n",
              "      <th>Type 2</th>\n",
              "      <th>Cuisine 1</th>\n",
              "      <th>Cuisine 2</th>\n",
              "      <th>Average Cost</th>\n",
              "      <th>Location</th>\n",
              "      <th>Rating</th>\n",
              "      <th>Reviews</th>\n",
              "      <th>Delivery Rating</th>\n",
              "      <th>Delivery Reviews</th>\n",
              "      <th>Favourite Dish 1</th>\n",
              "      <th>Favourite Dish 2</th>\n",
              "      <th>Area</th>\n",
              "    </tr>\n",
              "  </thead>\n",
              "  <tbody>\n",
              "    <tr>\n",
              "      <th>0</th>\n",
              "      <td>0</td>\n",
              "      <td>Mix@36 - The Westin\\r\\r\\n                     ...</td>\n",
              "      <td>Lounge</td>\n",
              "      <td>Bar</td>\n",
              "      <td>North Indian</td>\n",
              "      <td>Continental</td>\n",
              "      <td>4300</td>\n",
              "      <td>Mundhwa</td>\n",
              "      <td>4.2</td>\n",
              "      <td>707</td>\n",
              "      <td>3.8</td>\n",
              "      <td>49</td>\n",
              "      <td>Cocktails</td>\n",
              "      <td>Chaat</td>\n",
              "      <td>Satara Road</td>\n",
              "    </tr>\n",
              "    <tr>\n",
              "      <th>1</th>\n",
              "      <td>1</td>\n",
              "      <td>Kangan - The Westin\\r\\r\\n                     ...</td>\n",
              "      <td>Fine Dining</td>\n",
              "      <td>Bar</td>\n",
              "      <td>North Indian</td>\n",
              "      <td>Mughlai</td>\n",
              "      <td>3500</td>\n",
              "      <td>Mundhwa</td>\n",
              "      <td>4.1</td>\n",
              "      <td>344</td>\n",
              "      <td>3.8</td>\n",
              "      <td>49</td>\n",
              "      <td>Biryani</td>\n",
              "      <td>Veg Platter</td>\n",
              "      <td>Satara Road</td>\n",
              "    </tr>\n",
              "    <tr>\n",
              "      <th>2</th>\n",
              "      <td>2</td>\n",
              "      <td>Coriander Kitchen - Conrad Pune\\r\\r\\n         ...</td>\n",
              "      <td>Fine Dining</td>\n",
              "      <td>Bar</td>\n",
              "      <td>Mediterranean</td>\n",
              "      <td>Asian</td>\n",
              "      <td>3200</td>\n",
              "      <td>Bund Garden Road</td>\n",
              "      <td>4.5</td>\n",
              "      <td>541</td>\n",
              "      <td>3.8</td>\n",
              "      <td>49</td>\n",
              "      <td>Pasta</td>\n",
              "      <td>Panipuri</td>\n",
              "      <td>Hinjewadi</td>\n",
              "    </tr>\n",
              "    <tr>\n",
              "      <th>3</th>\n",
              "      <td>3</td>\n",
              "      <td>The Market - The Westin\\r\\r\\n                 ...</td>\n",
              "      <td>Fine Dining</td>\n",
              "      <td>Bar</td>\n",
              "      <td>Asian</td>\n",
              "      <td>European</td>\n",
              "      <td>3200</td>\n",
              "      <td>Mundhwa</td>\n",
              "      <td>4.0</td>\n",
              "      <td>55</td>\n",
              "      <td>3.8</td>\n",
              "      <td>49</td>\n",
              "      <td>Vanilla Ice Cream</td>\n",
              "      <td>Chaat</td>\n",
              "      <td>Satara Road</td>\n",
              "    </tr>\n",
              "    <tr>\n",
              "      <th>4</th>\n",
              "      <td>4</td>\n",
              "      <td>Vandaag - Vivanta Pune\\r\\r\\n                  ...</td>\n",
              "      <td>Pub</td>\n",
              "      <td>Casual Dining</td>\n",
              "      <td>Finger Food</td>\n",
              "      <td>Continental</td>\n",
              "      <td>3100</td>\n",
              "      <td>Hinjewadi</td>\n",
              "      <td>3.9</td>\n",
              "      <td>113</td>\n",
              "      <td>3.8</td>\n",
              "      <td>49</td>\n",
              "      <td>Cocktails</td>\n",
              "      <td>Beer</td>\n",
              "      <td>Hinjewadi</td>\n",
              "    </tr>\n",
              "  </tbody>\n",
              "</table>\n",
              "</div>"
            ],
            "text/plain": [
              "   Unnamed: 0  ...         Area\n",
              "0           0  ...  Satara Road\n",
              "1           1  ...  Satara Road\n",
              "2           2  ...    Hinjewadi\n",
              "3           3  ...  Satara Road\n",
              "4           4  ...    Hinjewadi\n",
              "\n",
              "[5 rows x 15 columns]"
            ]
          },
          "metadata": {},
          "execution_count": 31
        }
      ]
    },
    {
      "cell_type": "markdown",
      "metadata": {
        "id": "LMP5oD-87qKm"
      },
      "source": [
        "#Question\n",
        "Does the cost of restaurant depend upon its location?"
      ]
    },
    {
      "cell_type": "code",
      "metadata": {
        "colab": {
          "base_uri": "https://localhost:8080/",
          "height": 386
        },
        "id": "fMKxxwdr7zwm",
        "outputId": "4b4f3e36-5920-4cbd-86f7-475366bb50c7"
      },
      "source": [
        "sns.catplot(data = zomato ,x = 'Average Cost',y = 'Area',kind = 'box' )"
      ],
      "execution_count": null,
      "outputs": [
        {
          "output_type": "execute_result",
          "data": {
            "text/plain": [
              "<seaborn.axisgrid.FacetGrid at 0x7f40d4a6b650>"
            ]
          },
          "metadata": {},
          "execution_count": 32
        },
        {
          "output_type": "display_data",
          "data": {
            "image/png": "[encoded data removed]",
            "text/plain": [
              "<Figure size 360x360 with 1 Axes>"
            ]
          },
          "metadata": {
            "needs_background": "light"
          }
        }
      ]
    },
    {
      "cell_type": "code",
      "metadata": {
        "colab": {
          "base_uri": "https://localhost:8080/",
          "height": 480
        },
        "id": "P7q2NWoi8hWm",
        "outputId": "f18dcfed-6261-468e-efa9-0fdd6a6fd997"
      },
      "source": [
        "zomato.groupby(['Area']).mean().sort_values('Average Cost',ascending = False)"
      ],
      "execution_count": null,
      "outputs": [
        {
          "output_type": "execute_result",
          "data": {
            "text/html": [
              "<div>\n",
              "<style scoped>\n",
              "    .dataframe tbody tr th:only-of-type {\n",
              "        vertical-align: middle;\n",
              "    }\n",
              "\n",
              "    .dataframe tbody tr th {\n",
              "        vertical-align: top;\n",
              "    }\n",
              "\n",
              "    .dataframe thead th {\n",
              "        text-align: right;\n",
              "    }\n",
              "</style>\n",
              "<table border=\"1\" class=\"dataframe\">\n",
              "  <thead>\n",
              "    <tr style=\"text-align: right;\">\n",
              "      <th></th>\n",
              "      <th>Unnamed: 0</th>\n",
              "      <th>Average Cost</th>\n",
              "      <th>Rating</th>\n",
              "      <th>Reviews</th>\n",
              "      <th>Delivery Rating</th>\n",
              "      <th>Delivery Reviews</th>\n",
              "    </tr>\n",
              "    <tr>\n",
              "      <th>Area</th>\n",
              "      <th></th>\n",
              "      <th></th>\n",
              "      <th></th>\n",
              "      <th></th>\n",
              "      <th></th>\n",
              "      <th></th>\n",
              "    </tr>\n",
              "  </thead>\n",
              "  <tbody>\n",
              "    <tr>\n",
              "      <th>Misc</th>\n",
              "      <td>1927.610465</td>\n",
              "      <td>934.011628</td>\n",
              "      <td>3.528040</td>\n",
              "      <td>288.651163</td>\n",
              "      <td>3.785465</td>\n",
              "      <td>239.145349</td>\n",
              "    </tr>\n",
              "    <tr>\n",
              "      <th>Vishrantwadi</th>\n",
              "      <td>2487.098361</td>\n",
              "      <td>780.847988</td>\n",
              "      <td>3.771698</td>\n",
              "      <td>672.371088</td>\n",
              "      <td>3.829210</td>\n",
              "      <td>1094.183308</td>\n",
              "    </tr>\n",
              "    <tr>\n",
              "      <th>Shivajinagar</th>\n",
              "      <td>2417.840426</td>\n",
              "      <td>774.113475</td>\n",
              "      <td>3.814490</td>\n",
              "      <td>695.421986</td>\n",
              "      <td>3.933688</td>\n",
              "      <td>1331.978723</td>\n",
              "    </tr>\n",
              "    <tr>\n",
              "      <th>Baner</th>\n",
              "      <td>2583.713311</td>\n",
              "      <td>676.109215</td>\n",
              "      <td>3.721488</td>\n",
              "      <td>535.677474</td>\n",
              "      <td>3.820819</td>\n",
              "      <td>1112.122867</td>\n",
              "    </tr>\n",
              "    <tr>\n",
              "      <th>Hinjewadi</th>\n",
              "      <td>2405.766129</td>\n",
              "      <td>651.814516</td>\n",
              "      <td>3.626914</td>\n",
              "      <td>494.475806</td>\n",
              "      <td>3.723790</td>\n",
              "      <td>1320.008065</td>\n",
              "    </tr>\n",
              "    <tr>\n",
              "      <th>ShivajiNagar</th>\n",
              "      <td>2348.676471</td>\n",
              "      <td>630.882353</td>\n",
              "      <td>3.776471</td>\n",
              "      <td>374.735294</td>\n",
              "      <td>3.982353</td>\n",
              "      <td>1324.176471</td>\n",
              "    </tr>\n",
              "    <tr>\n",
              "      <th>Camp KP</th>\n",
              "      <td>2613.400000</td>\n",
              "      <td>627.187500</td>\n",
              "      <td>3.812944</td>\n",
              "      <td>414.775000</td>\n",
              "      <td>3.896875</td>\n",
              "      <td>491.225000</td>\n",
              "    </tr>\n",
              "    <tr>\n",
              "      <th>Satara Road</th>\n",
              "      <td>2803.239691</td>\n",
              "      <td>558.762887</td>\n",
              "      <td>3.661923</td>\n",
              "      <td>366.471649</td>\n",
              "      <td>3.830928</td>\n",
              "      <td>1248.208763</td>\n",
              "    </tr>\n",
              "    <tr>\n",
              "      <th>Nagar Road</th>\n",
              "      <td>2818.232279</td>\n",
              "      <td>536.095965</td>\n",
              "      <td>3.597480</td>\n",
              "      <td>429.069793</td>\n",
              "      <td>3.772846</td>\n",
              "      <td>1017.983642</td>\n",
              "    </tr>\n",
              "    <tr>\n",
              "      <th>PCMC</th>\n",
              "      <td>2978.391344</td>\n",
              "      <td>516.366096</td>\n",
              "      <td>3.617674</td>\n",
              "      <td>362.694319</td>\n",
              "      <td>3.784130</td>\n",
              "      <td>794.702435</td>\n",
              "    </tr>\n",
              "    <tr>\n",
              "      <th>Kothrud</th>\n",
              "      <td>2758.073022</td>\n",
              "      <td>502.839757</td>\n",
              "      <td>3.643095</td>\n",
              "      <td>384.036511</td>\n",
              "      <td>3.853955</td>\n",
              "      <td>1268.517241</td>\n",
              "    </tr>\n",
              "    <tr>\n",
              "      <th>Sinhagad Road</th>\n",
              "      <td>2978.815574</td>\n",
              "      <td>423.975410</td>\n",
              "      <td>3.578734</td>\n",
              "      <td>303.504098</td>\n",
              "      <td>3.815984</td>\n",
              "      <td>659.483607</td>\n",
              "    </tr>\n",
              "    <tr>\n",
              "      <th>Pune City</th>\n",
              "      <td>3128.271318</td>\n",
              "      <td>422.868217</td>\n",
              "      <td>3.647255</td>\n",
              "      <td>255.007752</td>\n",
              "      <td>3.862791</td>\n",
              "      <td>275.077519</td>\n",
              "    </tr>\n",
              "  </tbody>\n",
              "</table>\n",
              "</div>"
            ],
            "text/plain": [
              "                Unnamed: 0  Average Cost  ...  Delivery Rating  Delivery Reviews\n",
              "Area                                      ...                                   \n",
              "Misc           1927.610465    934.011628  ...         3.785465        239.145349\n",
              "Vishrantwadi   2487.098361    780.847988  ...         3.829210       1094.183308\n",
              "Shivajinagar   2417.840426    774.113475  ...         3.933688       1331.978723\n",
              "Baner          2583.713311    676.109215  ...         3.820819       1112.122867\n",
              "Hinjewadi      2405.766129    651.814516  ...         3.723790       1320.008065\n",
              "ShivajiNagar   2348.676471    630.882353  ...         3.982353       1324.176471\n",
              "Camp KP        2613.400000    627.187500  ...         3.896875        491.225000\n",
              "Satara Road    2803.239691    558.762887  ...         3.830928       1248.208763\n",
              "Nagar Road     2818.232279    536.095965  ...         3.772846       1017.983642\n",
              "PCMC           2978.391344    516.366096  ...         3.784130        794.702435\n",
              "Kothrud        2758.073022    502.839757  ...         3.853955       1268.517241\n",
              "Sinhagad Road  2978.815574    423.975410  ...         3.815984        659.483607\n",
              "Pune City      3128.271318    422.868217  ...         3.862791        275.077519\n",
              "\n",
              "[13 rows x 6 columns]"
            ]
          },
          "metadata": {},
          "execution_count": 33
        }
      ]
    },
    {
      "cell_type": "markdown",
      "metadata": {
        "id": "FRSpPpE8Rh15"
      },
      "source": [
        "#Answer\n",
        "From the above chart we have interesting inferences.\n",
        "- We generally observe that areas such as pune city, sinhagad road,Kothrud etc. are generally cheaper as compared to shivajinagar,vishrantwadi and misc areas(which consist of 5-star hotels) are more expensive.\n",
        "- On observing the chart in depth, we also observe that outliers in ares such as Satara road and Hinjewadi are far more stretched which may seem to be dictating the the general trend of these particular reasons.\n",
        "- Now, it is more interesting to note that Banre reagion has no outliers which denotes a highly condensed chart represntation.\n",
        "- As we move on to pandas analysis, we can also infer that places like Vishrantwadi and Shivajinagar has more expensive Average costs as compared to other areas.\n",
        "-Which is in perfect correlation with the seaborn chart analysis that uses median as primary tool to segregate these numbers.\n",
        "-**So, to conclude, we can definitely say that area in which a restaurant is located is a prime governing criterion for average costs.** "
      ]
    },
    {
      "cell_type": "markdown",
      "metadata": {
        "id": "2WRhqzQ2UYXh"
      },
      "source": [
        "#Question\n",
        "Restaurants in which area are the best?"
      ]
    },
    {
      "cell_type": "code",
      "metadata": {
        "colab": {
          "base_uri": "https://localhost:8080/",
          "height": 386
        },
        "id": "ehBDlqn8Ugue",
        "outputId": "543d9f22-688d-4693-b2ab-77ad75a51c31"
      },
      "source": [
        "sns.catplot(data = zomato ,x = 'Rating',y = 'Area',kind = 'box' )"
      ],
      "execution_count": null,
      "outputs": [
        {
          "output_type": "execute_result",
          "data": {
            "text/plain": [
              "<seaborn.axisgrid.FacetGrid at 0x7f40d4c666d0>"
            ]
          },
          "metadata": {},
          "execution_count": 27
        },
        {
          "output_type": "display_data",
          "data": {
            "image/png": "[encoded data removed]",
            "text/plain": [
              "<Figure size 360x360 with 1 Axes>"
            ]
          },
          "metadata": {
            "needs_background": "light"
          }
        }
      ]
    },
    {
      "cell_type": "code",
      "metadata": {
        "colab": {
          "base_uri": "https://localhost:8080/",
          "height": 480
        },
        "id": "_v2lQuH6VDAr",
        "outputId": "18d2996e-ea21-4607-95f2-d2a40cf5d641"
      },
      "source": [
        "zomato.groupby(['Area']).mean().sort_values('Rating',ascending = False)"
      ],
      "execution_count": null,
      "outputs": [
        {
          "output_type": "execute_result",
          "data": {
            "text/html": [
              "<div>\n",
              "<style scoped>\n",
              "    .dataframe tbody tr th:only-of-type {\n",
              "        vertical-align: middle;\n",
              "    }\n",
              "\n",
              "    .dataframe tbody tr th {\n",
              "        vertical-align: top;\n",
              "    }\n",
              "\n",
              "    .dataframe thead th {\n",
              "        text-align: right;\n",
              "    }\n",
              "</style>\n",
              "<table border=\"1\" class=\"dataframe\">\n",
              "  <thead>\n",
              "    <tr style=\"text-align: right;\">\n",
              "      <th></th>\n",
              "      <th>Unnamed: 0</th>\n",
              "      <th>Average Cost</th>\n",
              "      <th>Rating</th>\n",
              "      <th>Reviews</th>\n",
              "      <th>Delivery Rating</th>\n",
              "      <th>Delivery Reviews</th>\n",
              "    </tr>\n",
              "    <tr>\n",
              "      <th>Area</th>\n",
              "      <th></th>\n",
              "      <th></th>\n",
              "      <th></th>\n",
              "      <th></th>\n",
              "      <th></th>\n",
              "      <th></th>\n",
              "    </tr>\n",
              "  </thead>\n",
              "  <tbody>\n",
              "    <tr>\n",
              "      <th>Shivajinagar</th>\n",
              "      <td>2417.840426</td>\n",
              "      <td>774.113475</td>\n",
              "      <td>3.814490</td>\n",
              "      <td>695.421986</td>\n",
              "      <td>3.933688</td>\n",
              "      <td>1331.978723</td>\n",
              "    </tr>\n",
              "    <tr>\n",
              "      <th>Camp KP</th>\n",
              "      <td>2613.400000</td>\n",
              "      <td>627.187500</td>\n",
              "      <td>3.812944</td>\n",
              "      <td>414.775000</td>\n",
              "      <td>3.896875</td>\n",
              "      <td>491.225000</td>\n",
              "    </tr>\n",
              "    <tr>\n",
              "      <th>ShivajiNagar</th>\n",
              "      <td>2348.676471</td>\n",
              "      <td>630.882353</td>\n",
              "      <td>3.776471</td>\n",
              "      <td>374.735294</td>\n",
              "      <td>3.982353</td>\n",
              "      <td>1324.176471</td>\n",
              "    </tr>\n",
              "    <tr>\n",
              "      <th>Vishrantwadi</th>\n",
              "      <td>2487.098361</td>\n",
              "      <td>780.847988</td>\n",
              "      <td>3.771698</td>\n",
              "      <td>672.371088</td>\n",
              "      <td>3.829210</td>\n",
              "      <td>1094.183308</td>\n",
              "    </tr>\n",
              "    <tr>\n",
              "      <th>Baner</th>\n",
              "      <td>2583.713311</td>\n",
              "      <td>676.109215</td>\n",
              "      <td>3.721488</td>\n",
              "      <td>535.677474</td>\n",
              "      <td>3.820819</td>\n",
              "      <td>1112.122867</td>\n",
              "    </tr>\n",
              "    <tr>\n",
              "      <th>Satara Road</th>\n",
              "      <td>2803.239691</td>\n",
              "      <td>558.762887</td>\n",
              "      <td>3.661923</td>\n",
              "      <td>366.471649</td>\n",
              "      <td>3.830928</td>\n",
              "      <td>1248.208763</td>\n",
              "    </tr>\n",
              "    <tr>\n",
              "      <th>Pune City</th>\n",
              "      <td>3128.271318</td>\n",
              "      <td>422.868217</td>\n",
              "      <td>3.647255</td>\n",
              "      <td>255.007752</td>\n",
              "      <td>3.862791</td>\n",
              "      <td>275.077519</td>\n",
              "    </tr>\n",
              "    <tr>\n",
              "      <th>Kothrud</th>\n",
              "      <td>2758.073022</td>\n",
              "      <td>502.839757</td>\n",
              "      <td>3.643095</td>\n",
              "      <td>384.036511</td>\n",
              "      <td>3.853955</td>\n",
              "      <td>1268.517241</td>\n",
              "    </tr>\n",
              "    <tr>\n",
              "      <th>Hinjewadi</th>\n",
              "      <td>2405.766129</td>\n",
              "      <td>651.814516</td>\n",
              "      <td>3.626914</td>\n",
              "      <td>494.475806</td>\n",
              "      <td>3.723790</td>\n",
              "      <td>1320.008065</td>\n",
              "    </tr>\n",
              "    <tr>\n",
              "      <th>PCMC</th>\n",
              "      <td>2978.391344</td>\n",
              "      <td>516.366096</td>\n",
              "      <td>3.617674</td>\n",
              "      <td>362.694319</td>\n",
              "      <td>3.784130</td>\n",
              "      <td>794.702435</td>\n",
              "    </tr>\n",
              "    <tr>\n",
              "      <th>Nagar Road</th>\n",
              "      <td>2818.232279</td>\n",
              "      <td>536.095965</td>\n",
              "      <td>3.597480</td>\n",
              "      <td>429.069793</td>\n",
              "      <td>3.772846</td>\n",
              "      <td>1017.983642</td>\n",
              "    </tr>\n",
              "    <tr>\n",
              "      <th>Sinhagad Road</th>\n",
              "      <td>2978.815574</td>\n",
              "      <td>423.975410</td>\n",
              "      <td>3.578734</td>\n",
              "      <td>303.504098</td>\n",
              "      <td>3.815984</td>\n",
              "      <td>659.483607</td>\n",
              "    </tr>\n",
              "    <tr>\n",
              "      <th>Misc</th>\n",
              "      <td>1927.610465</td>\n",
              "      <td>934.011628</td>\n",
              "      <td>3.528040</td>\n",
              "      <td>288.651163</td>\n",
              "      <td>3.785465</td>\n",
              "      <td>239.145349</td>\n",
              "    </tr>\n",
              "  </tbody>\n",
              "</table>\n",
              "</div>"
            ],
            "text/plain": [
              "                Unnamed: 0  Average Cost  ...  Delivery Rating  Delivery Reviews\n",
              "Area                                      ...                                   \n",
              "Shivajinagar   2417.840426    774.113475  ...         3.933688       1331.978723\n",
              "Camp KP        2613.400000    627.187500  ...         3.896875        491.225000\n",
              "ShivajiNagar   2348.676471    630.882353  ...         3.982353       1324.176471\n",
              "Vishrantwadi   2487.098361    780.847988  ...         3.829210       1094.183308\n",
              "Baner          2583.713311    676.109215  ...         3.820819       1112.122867\n",
              "Satara Road    2803.239691    558.762887  ...         3.830928       1248.208763\n",
              "Pune City      3128.271318    422.868217  ...         3.862791        275.077519\n",
              "Kothrud        2758.073022    502.839757  ...         3.853955       1268.517241\n",
              "Hinjewadi      2405.766129    651.814516  ...         3.723790       1320.008065\n",
              "PCMC           2978.391344    516.366096  ...         3.784130        794.702435\n",
              "Nagar Road     2818.232279    536.095965  ...         3.772846       1017.983642\n",
              "Sinhagad Road  2978.815574    423.975410  ...         3.815984        659.483607\n",
              "Misc           1927.610465    934.011628  ...         3.785465        239.145349\n",
              "\n",
              "[13 rows x 6 columns]"
            ]
          },
          "metadata": {},
          "execution_count": 28
        }
      ]
    },
    {
      "cell_type": "markdown",
      "metadata": {
        "id": "2_bXsLyXbKDz"
      },
      "source": [
        "#Answer\n",
        "- Restaurants in areas Shivajinagar and Camp Koregaon Park have the best average ratings of all the areas in Pune.\n",
        "- But, interestingly, median analysis done in the scatterplot shows that Median range of restaurants in Vishrantwadi area have better bend of 25-75 percentile region.\n",
        "- This leads to very ineteresting question,what should we consider as better measure of central tendency.\n",
        "- There are many differenet argumentys one can make about it, but I personally believe that median should be considered in this case as looking at the chart, it is clear that Vishrantwadi area has better band of ratings in 25-75 percentile which shows us the fact that there are more restaurants that have better average of ratings than average which can be influenced by the outliers easily.\n",
        "- **Hence, we can say that Vishrantwadi area has best restaurants in the city.**"
      ]
    },
    {
      "cell_type": "markdown",
      "metadata": {
        "id": "4S3KHW_bc4sb"
      },
      "source": [
        "#Question\n",
        "Which restaurants are the best to dine in Pune if your budget is 1000-1500 Rupees. Furthermore, in which area are you most likely to find such restaurants."
      ]
    },
    {
      "cell_type": "markdown",
      "metadata": {
        "id": "YEtGAy3Nedds"
      },
      "source": [
        "#Solution\n",
        "- Now let us first define what do we mean by best restaurants.\n",
        "- Here, we can consider ratings as excellent criterion to decide goodness of a restaurant. Also, choice of food matters.\n",
        "- Here we will not be applying filter on cuisine but we will adress that point with observation.\n",
        "- Here let us assume that best restaurants have rating greater than or equal to 4.5"
      ]
    },
    {
      "cell_type": "code",
      "metadata": {
        "colab": {
          "base_uri": "https://localhost:8080/",
          "height": 1000
        },
        "id": "JatqPiQxdUYC",
        "outputId": "3d917e12-6196-47de-952f-521cb363dffc"
      },
      "source": [
        "a = zomato[(zomato['Average Cost'] > 1000) & (zomato['Average Cost'] < 1500)]\n",
        "b = a[(a['Rating'] >= 4.5)]\n",
        "b"
      ],
      "execution_count": null,
      "outputs": [
        {
          "output_type": "execute_result",
          "data": {
            "text/html": [
              "<div>\n",
              "<style scoped>\n",
              "    .dataframe tbody tr th:only-of-type {\n",
              "        vertical-align: middle;\n",
              "    }\n",
              "\n",
              "    .dataframe tbody tr th {\n",
              "        vertical-align: top;\n",
              "    }\n",
              "\n",
              "    .dataframe thead th {\n",
              "        text-align: right;\n",
              "    }\n",
              "</style>\n",
              "<table border=\"1\" class=\"dataframe\">\n",
              "  <thead>\n",
              "    <tr style=\"text-align: right;\">\n",
              "      <th></th>\n",
              "      <th>Unnamed: 0</th>\n",
              "      <th>Restaurant Name</th>\n",
              "      <th>Type 1</th>\n",
              "      <th>Type 2</th>\n",
              "      <th>Cuisine 1</th>\n",
              "      <th>Cuisine 2</th>\n",
              "      <th>Average Cost</th>\n",
              "      <th>Location</th>\n",
              "      <th>Rating</th>\n",
              "      <th>Reviews</th>\n",
              "      <th>Delivery Rating</th>\n",
              "      <th>Delivery Reviews</th>\n",
              "      <th>Favourite Dish 1</th>\n",
              "      <th>Favourite Dish 2</th>\n",
              "      <th>Area</th>\n",
              "    </tr>\n",
              "  </thead>\n",
              "  <tbody>\n",
              "    <tr>\n",
              "      <th>323</th>\n",
              "      <td>323</td>\n",
              "      <td>Sentosa MultiCuisine Restaurant\\r\\r\\n         ...</td>\n",
              "      <td>Casual Dining</td>\n",
              "      <td>Bar</td>\n",
              "      <td>Continental</td>\n",
              "      <td>Mughlai</td>\n",
              "      <td>1400</td>\n",
              "      <td>Ravet</td>\n",
              "      <td>4.6</td>\n",
              "      <td>1521</td>\n",
              "      <td>3.6</td>\n",
              "      <td>6338</td>\n",
              "      <td>Mocktails</td>\n",
              "      <td>Gulab Jamun</td>\n",
              "      <td>PCMC</td>\n",
              "    </tr>\n",
              "    <tr>\n",
              "      <th>332</th>\n",
              "      <td>332</td>\n",
              "      <td>Flechazo\\r\\r\\n                                ...</td>\n",
              "      <td>Casual Dining</td>\n",
              "      <td>Bar</td>\n",
              "      <td>North Indian</td>\n",
              "      <td>Mediterranean</td>\n",
              "      <td>1400</td>\n",
              "      <td>Wakad</td>\n",
              "      <td>4.6</td>\n",
              "      <td>5193</td>\n",
              "      <td>3.8</td>\n",
              "      <td>49</td>\n",
              "      <td>Pizza</td>\n",
              "      <td>Pasta</td>\n",
              "      <td>PCMC</td>\n",
              "    </tr>\n",
              "    <tr>\n",
              "      <th>339</th>\n",
              "      <td>339</td>\n",
              "      <td>Portico - Sayaji Hotel\\r\\r\\n                  ...</td>\n",
              "      <td>Casual Dining</td>\n",
              "      <td>Bar</td>\n",
              "      <td>Salad</td>\n",
              "      <td>European</td>\n",
              "      <td>1400</td>\n",
              "      <td>Wakad</td>\n",
              "      <td>4.6</td>\n",
              "      <td>1182</td>\n",
              "      <td>3.8</td>\n",
              "      <td>49</td>\n",
              "      <td>Salad</td>\n",
              "      <td>Fish</td>\n",
              "      <td>PCMC</td>\n",
              "    </tr>\n",
              "    <tr>\n",
              "      <th>382</th>\n",
              "      <td>382</td>\n",
              "      <td>Santè Spa Cuisine\\r\\r\\n                       ...</td>\n",
              "      <td>Casual Dining</td>\n",
              "      <td>Bar</td>\n",
              "      <td>Pizza</td>\n",
              "      <td>Mediterranean</td>\n",
              "      <td>1300</td>\n",
              "      <td>Koregaon Park</td>\n",
              "      <td>4.9</td>\n",
              "      <td>1396</td>\n",
              "      <td>3.9</td>\n",
              "      <td>89</td>\n",
              "      <td>Salad</td>\n",
              "      <td>Farm Pizza</td>\n",
              "      <td>Vishrantwadi</td>\n",
              "    </tr>\n",
              "    <tr>\n",
              "      <th>412</th>\n",
              "      <td>412</td>\n",
              "      <td>Greens &amp; Olives\\r\\r\\n                         ...</td>\n",
              "      <td>Casual Dining</td>\n",
              "      <td>Bar</td>\n",
              "      <td>Healthy Food</td>\n",
              "      <td>Salad</td>\n",
              "      <td>1300</td>\n",
              "      <td>Aundh</td>\n",
              "      <td>4.5</td>\n",
              "      <td>1992</td>\n",
              "      <td>4.0</td>\n",
              "      <td>2070</td>\n",
              "      <td>Pasta</td>\n",
              "      <td>Pizza</td>\n",
              "      <td>Baner</td>\n",
              "    </tr>\n",
              "    <tr>\n",
              "      <th>462</th>\n",
              "      <td>462</td>\n",
              "      <td>La Gustosa\\r\\r\\n                              ...</td>\n",
              "      <td>Casual Dining</td>\n",
              "      <td>Bar</td>\n",
              "      <td>Italian</td>\n",
              "      <td>NaN</td>\n",
              "      <td>1200</td>\n",
              "      <td>Kothrud</td>\n",
              "      <td>4.5</td>\n",
              "      <td>1855</td>\n",
              "      <td>4.3</td>\n",
              "      <td>251</td>\n",
              "      <td>Pasta</td>\n",
              "      <td>Pizza</td>\n",
              "      <td>Kothrud</td>\n",
              "    </tr>\n",
              "    <tr>\n",
              "      <th>466</th>\n",
              "      <td>466</td>\n",
              "      <td>Fish Curry Rice\\r\\r\\n                         ...</td>\n",
              "      <td>Casual Dining</td>\n",
              "      <td>Bar</td>\n",
              "      <td>Maharashtrian</td>\n",
              "      <td>Malwani</td>\n",
              "      <td>1200</td>\n",
              "      <td>Law College Road</td>\n",
              "      <td>4.5</td>\n",
              "      <td>970</td>\n",
              "      <td>3.9</td>\n",
              "      <td>2841</td>\n",
              "      <td>Sea Food</td>\n",
              "      <td>Fish Thali</td>\n",
              "      <td>Shivajinagar</td>\n",
              "    </tr>\n",
              "    <tr>\n",
              "      <th>472</th>\n",
              "      <td>472</td>\n",
              "      <td>Yin Yang\\r\\r\\n                                ...</td>\n",
              "      <td>Casual Dining</td>\n",
              "      <td>Bar</td>\n",
              "      <td>Indonesian</td>\n",
              "      <td>Burmese</td>\n",
              "      <td>1200</td>\n",
              "      <td>Kothrud</td>\n",
              "      <td>4.5</td>\n",
              "      <td>413</td>\n",
              "      <td>4.3</td>\n",
              "      <td>719</td>\n",
              "      <td>Sushi</td>\n",
              "      <td>Dumplings</td>\n",
              "      <td>Kothrud</td>\n",
              "    </tr>\n",
              "    <tr>\n",
              "      <th>487</th>\n",
              "      <td>487</td>\n",
              "      <td>Crazy Noodles\\r\\r\\n                           ...</td>\n",
              "      <td>Casual Dining</td>\n",
              "      <td>Bar</td>\n",
              "      <td>Salad</td>\n",
              "      <td>Japanese</td>\n",
              "      <td>1200</td>\n",
              "      <td>Viman Nagar</td>\n",
              "      <td>4.5</td>\n",
              "      <td>777</td>\n",
              "      <td>3.8</td>\n",
              "      <td>49</td>\n",
              "      <td>Thukpa</td>\n",
              "      <td>Momos</td>\n",
              "      <td>Vishrantwadi</td>\n",
              "    </tr>\n",
              "    <tr>\n",
              "      <th>491</th>\n",
              "      <td>491</td>\n",
              "      <td>Asia Kitchen By Mainland China\\r\\r\\n          ...</td>\n",
              "      <td>Casual Dining</td>\n",
              "      <td>Bar</td>\n",
              "      <td>Sushi</td>\n",
              "      <td>Chinese</td>\n",
              "      <td>1200</td>\n",
              "      <td>Dhole Patil Road</td>\n",
              "      <td>4.5</td>\n",
              "      <td>586</td>\n",
              "      <td>4.2</td>\n",
              "      <td>276</td>\n",
              "      <td>Sushi</td>\n",
              "      <td>Dumplings</td>\n",
              "      <td>Camp KP</td>\n",
              "    </tr>\n",
              "    <tr>\n",
              "      <th>494</th>\n",
              "      <td>494</td>\n",
              "      <td>Level 5 Bistro and Bar\\r\\r\\n                  ...</td>\n",
              "      <td>Casual Dining</td>\n",
              "      <td>Bar</td>\n",
              "      <td>American</td>\n",
              "      <td>Italian</td>\n",
              "      <td>1200</td>\n",
              "      <td>Erandwane</td>\n",
              "      <td>4.8</td>\n",
              "      <td>551</td>\n",
              "      <td>3.8</td>\n",
              "      <td>49</td>\n",
              "      <td>Pizza</td>\n",
              "      <td>Burgers</td>\n",
              "      <td>Kothrud</td>\n",
              "    </tr>\n",
              "    <tr>\n",
              "      <th>511</th>\n",
              "      <td>511</td>\n",
              "      <td>Baobab\\r\\r\\n</td>\n",
              "      <td>Casual Dining</td>\n",
              "      <td>Bar</td>\n",
              "      <td>Asian</td>\n",
              "      <td>Italian</td>\n",
              "      <td>1200</td>\n",
              "      <td>Bund Garden Road</td>\n",
              "      <td>4.6</td>\n",
              "      <td>408</td>\n",
              "      <td>3.8</td>\n",
              "      <td>49</td>\n",
              "      <td>Butter Beer</td>\n",
              "      <td>Cheesecake</td>\n",
              "      <td>Vishrantwadi</td>\n",
              "    </tr>\n",
              "    <tr>\n",
              "      <th>516</th>\n",
              "      <td>516</td>\n",
              "      <td>Oriental Connexions\\r\\r\\n                     ...</td>\n",
              "      <td>Casual Dining</td>\n",
              "      <td>Bar</td>\n",
              "      <td>Seafood</td>\n",
              "      <td>Thai</td>\n",
              "      <td>1200</td>\n",
              "      <td>Shivaji Nagar</td>\n",
              "      <td>4.5</td>\n",
              "      <td>1034</td>\n",
              "      <td>3.8</td>\n",
              "      <td>49</td>\n",
              "      <td>Crispy Chicken</td>\n",
              "      <td>Nasi Goreng</td>\n",
              "      <td>Shivajinagar</td>\n",
              "    </tr>\n",
              "    <tr>\n",
              "      <th>517</th>\n",
              "      <td>517</td>\n",
              "      <td>BarBerry\\r\\r\\n                                ...</td>\n",
              "      <td>Bar</td>\n",
              "      <td>Casual Dining</td>\n",
              "      <td>Finger Food</td>\n",
              "      <td>Continental</td>\n",
              "      <td>1200</td>\n",
              "      <td>Kothrud</td>\n",
              "      <td>4.5</td>\n",
              "      <td>2166</td>\n",
              "      <td>3.8</td>\n",
              "      <td>49</td>\n",
              "      <td>Beer</td>\n",
              "      <td>Cocktails</td>\n",
              "      <td>Kothrud</td>\n",
              "    </tr>\n",
              "    <tr>\n",
              "      <th>524</th>\n",
              "      <td>524</td>\n",
              "      <td>GeoBistro\\r\\r\\n                               ...</td>\n",
              "      <td>Casual Dining</td>\n",
              "      <td>Bar</td>\n",
              "      <td>Italian</td>\n",
              "      <td>Chinese</td>\n",
              "      <td>1200</td>\n",
              "      <td>Viman Nagar</td>\n",
              "      <td>4.5</td>\n",
              "      <td>1412</td>\n",
              "      <td>2.8</td>\n",
              "      <td>1690</td>\n",
              "      <td>Mocktails</td>\n",
              "      <td>Pasta</td>\n",
              "      <td>Vishrantwadi</td>\n",
              "    </tr>\n",
              "    <tr>\n",
              "      <th>608</th>\n",
              "      <td>608</td>\n",
              "      <td>Cafe Goa\\r\\r\\n                                ...</td>\n",
              "      <td>Casual Dining</td>\n",
              "      <td>Bar</td>\n",
              "      <td>Seafood</td>\n",
              "      <td>Goan</td>\n",
              "      <td>1100</td>\n",
              "      <td>Viman Nagar</td>\n",
              "      <td>4.8</td>\n",
              "      <td>709</td>\n",
              "      <td>4.2</td>\n",
              "      <td>209</td>\n",
              "      <td>Sea Food</td>\n",
              "      <td>Prawn Curry</td>\n",
              "      <td>Vishrantwadi</td>\n",
              "    </tr>\n",
              "    <tr>\n",
              "      <th>1253</th>\n",
              "      <td>1253</td>\n",
              "      <td>La Gustosa\\r\\n                                ...</td>\n",
              "      <td>Casual Dining</td>\n",
              "      <td>Bar</td>\n",
              "      <td>Italian</td>\n",
              "      <td>NaN</td>\n",
              "      <td>1200</td>\n",
              "      <td>Kothrud</td>\n",
              "      <td>4.5</td>\n",
              "      <td>1854</td>\n",
              "      <td>4.3</td>\n",
              "      <td>249</td>\n",
              "      <td>Pasta</td>\n",
              "      <td>Pizza</td>\n",
              "      <td>Kothrud</td>\n",
              "    </tr>\n",
              "    <tr>\n",
              "      <th>1673</th>\n",
              "      <td>1673</td>\n",
              "      <td>Fish Curry Rice\\r\\n                           ...</td>\n",
              "      <td>Casual Dining</td>\n",
              "      <td>Bar</td>\n",
              "      <td>Maharashtrian</td>\n",
              "      <td>Malwani</td>\n",
              "      <td>1200</td>\n",
              "      <td>Law College Road</td>\n",
              "      <td>4.5</td>\n",
              "      <td>970</td>\n",
              "      <td>3.9</td>\n",
              "      <td>2841</td>\n",
              "      <td>Sea Food</td>\n",
              "      <td>Fish Thali</td>\n",
              "      <td>Shivajinagar</td>\n",
              "    </tr>\n",
              "    <tr>\n",
              "      <th>1731</th>\n",
              "      <td>1731</td>\n",
              "      <td>Sentosa MultiCuisine Restaurant\\r\\n           ...</td>\n",
              "      <td>Casual Dining</td>\n",
              "      <td>Bar</td>\n",
              "      <td>Continental</td>\n",
              "      <td>Mughlai</td>\n",
              "      <td>1400</td>\n",
              "      <td>Ravet</td>\n",
              "      <td>4.6</td>\n",
              "      <td>1521</td>\n",
              "      <td>3.6</td>\n",
              "      <td>6336</td>\n",
              "      <td>Mocktails</td>\n",
              "      <td>Gulab Jamun</td>\n",
              "      <td>PCMC</td>\n",
              "    </tr>\n",
              "    <tr>\n",
              "      <th>2099</th>\n",
              "      <td>2099</td>\n",
              "      <td>Santè Spa Cuisine\\r\\n                         ...</td>\n",
              "      <td>Casual Dining</td>\n",
              "      <td>Bar</td>\n",
              "      <td>Pizza</td>\n",
              "      <td>Mediterranean</td>\n",
              "      <td>1300</td>\n",
              "      <td>Koregaon Park</td>\n",
              "      <td>4.9</td>\n",
              "      <td>1396</td>\n",
              "      <td>3.9</td>\n",
              "      <td>89</td>\n",
              "      <td>Salad</td>\n",
              "      <td>Farm Pizza</td>\n",
              "      <td>Vishrantwadi</td>\n",
              "    </tr>\n",
              "    <tr>\n",
              "      <th>2289</th>\n",
              "      <td>2289</td>\n",
              "      <td>Yin Yang\\r\\n</td>\n",
              "      <td>Casual Dining</td>\n",
              "      <td>Bar</td>\n",
              "      <td>Indonesian</td>\n",
              "      <td>Burmese</td>\n",
              "      <td>1200</td>\n",
              "      <td>Kothrud</td>\n",
              "      <td>4.5</td>\n",
              "      <td>413</td>\n",
              "      <td>4.3</td>\n",
              "      <td>717</td>\n",
              "      <td>Sushi</td>\n",
              "      <td>Dumplings</td>\n",
              "      <td>Kothrud</td>\n",
              "    </tr>\n",
              "    <tr>\n",
              "      <th>3656</th>\n",
              "      <td>3656</td>\n",
              "      <td>Crazy Noodles\\r\\n                             ...</td>\n",
              "      <td>Casual Dining</td>\n",
              "      <td>Bar</td>\n",
              "      <td>Salad</td>\n",
              "      <td>Japanese</td>\n",
              "      <td>1200</td>\n",
              "      <td>Viman Nagar</td>\n",
              "      <td>4.5</td>\n",
              "      <td>777</td>\n",
              "      <td>3.8</td>\n",
              "      <td>49</td>\n",
              "      <td>Thukpa</td>\n",
              "      <td>Momos</td>\n",
              "      <td>Vishrantwadi</td>\n",
              "    </tr>\n",
              "    <tr>\n",
              "      <th>4079</th>\n",
              "      <td>4079</td>\n",
              "      <td>Asia Kitchen By Mainland China\\r\\n            ...</td>\n",
              "      <td>Casual Dining</td>\n",
              "      <td>Bar</td>\n",
              "      <td>Sushi</td>\n",
              "      <td>Chinese</td>\n",
              "      <td>1200</td>\n",
              "      <td>Dhole Patil Road</td>\n",
              "      <td>4.5</td>\n",
              "      <td>586</td>\n",
              "      <td>4.2</td>\n",
              "      <td>275</td>\n",
              "      <td>Sushi</td>\n",
              "      <td>Dumplings</td>\n",
              "      <td>Camp KP</td>\n",
              "    </tr>\n",
              "    <tr>\n",
              "      <th>4359</th>\n",
              "      <td>4359</td>\n",
              "      <td>Greens &amp; Olives\\r\\n                           ...</td>\n",
              "      <td>Casual Dining</td>\n",
              "      <td>Bar</td>\n",
              "      <td>Healthy Food</td>\n",
              "      <td>Salad</td>\n",
              "      <td>1300</td>\n",
              "      <td>Aundh</td>\n",
              "      <td>4.5</td>\n",
              "      <td>1992</td>\n",
              "      <td>4.0</td>\n",
              "      <td>2070</td>\n",
              "      <td>Pasta</td>\n",
              "      <td>Pizza</td>\n",
              "      <td>Baner</td>\n",
              "    </tr>\n",
              "    <tr>\n",
              "      <th>4574</th>\n",
              "      <td>4574</td>\n",
              "      <td>Cafe Goa\\r\\n</td>\n",
              "      <td>Casual Dining</td>\n",
              "      <td>Bar</td>\n",
              "      <td>Seafood</td>\n",
              "      <td>Goan</td>\n",
              "      <td>1100</td>\n",
              "      <td>Viman Nagar</td>\n",
              "      <td>4.8</td>\n",
              "      <td>709</td>\n",
              "      <td>4.2</td>\n",
              "      <td>209</td>\n",
              "      <td>Sea Food</td>\n",
              "      <td>Prawn Curry</td>\n",
              "      <td>Vishrantwadi</td>\n",
              "    </tr>\n",
              "    <tr>\n",
              "      <th>4638</th>\n",
              "      <td>4638</td>\n",
              "      <td>Level 5 Bistro and Bar\\r\\n                    ...</td>\n",
              "      <td>Casual Dining</td>\n",
              "      <td>Bar</td>\n",
              "      <td>American</td>\n",
              "      <td>Italian</td>\n",
              "      <td>1200</td>\n",
              "      <td>Erandwane</td>\n",
              "      <td>4.8</td>\n",
              "      <td>551</td>\n",
              "      <td>3.8</td>\n",
              "      <td>49</td>\n",
              "      <td>Pizza</td>\n",
              "      <td>Burgers</td>\n",
              "      <td>Kothrud</td>\n",
              "    </tr>\n",
              "    <tr>\n",
              "      <th>4874</th>\n",
              "      <td>4874</td>\n",
              "      <td>Flechazo\\r\\n</td>\n",
              "      <td>Casual Dining</td>\n",
              "      <td>Bar</td>\n",
              "      <td>North Indian</td>\n",
              "      <td>Mediterranean</td>\n",
              "      <td>1400</td>\n",
              "      <td>Wakad</td>\n",
              "      <td>4.6</td>\n",
              "      <td>5193</td>\n",
              "      <td>3.8</td>\n",
              "      <td>49</td>\n",
              "      <td>Pizza</td>\n",
              "      <td>Pasta</td>\n",
              "      <td>PCMC</td>\n",
              "    </tr>\n",
              "  </tbody>\n",
              "</table>\n",
              "</div>"
            ],
            "text/plain": [
              "      Unnamed: 0  ...          Area\n",
              "323          323  ...          PCMC\n",
              "332          332  ...          PCMC\n",
              "339          339  ...          PCMC\n",
              "382          382  ...  Vishrantwadi\n",
              "412          412  ...         Baner\n",
              "462          462  ...       Kothrud\n",
              "466          466  ...  Shivajinagar\n",
              "472          472  ...       Kothrud\n",
              "487          487  ...  Vishrantwadi\n",
              "491          491  ...       Camp KP\n",
              "494          494  ...       Kothrud\n",
              "511          511  ...  Vishrantwadi\n",
              "516          516  ...  Shivajinagar\n",
              "517          517  ...       Kothrud\n",
              "524          524  ...  Vishrantwadi\n",
              "608          608  ...  Vishrantwadi\n",
              "1253        1253  ...       Kothrud\n",
              "1673        1673  ...  Shivajinagar\n",
              "1731        1731  ...          PCMC\n",
              "2099        2099  ...  Vishrantwadi\n",
              "2289        2289  ...       Kothrud\n",
              "3656        3656  ...  Vishrantwadi\n",
              "4079        4079  ...       Camp KP\n",
              "4359        4359  ...         Baner\n",
              "4574        4574  ...  Vishrantwadi\n",
              "4638        4638  ...       Kothrud\n",
              "4874        4874  ...          PCMC\n",
              "\n",
              "[27 rows x 15 columns]"
            ]
          },
          "metadata": {},
          "execution_count": 42
        }
      ]
    },
    {
      "cell_type": "markdown",
      "metadata": {
        "id": "6p8PixpZ8udk"
      },
      "source": [
        "#Answer\n",
        "From the above data, we get following inferences.\n",
        "- Most of the good restaurants with rating above 4.5 aree of casual dining and bar category.\n",
        "- PCMC and vishrantwadi areas have the best restaurants of required kind.\n",
        "- Furthermore, Pizza can be said to be the most favourite food item in these restaurants."
      ]
    },
    {
      "cell_type": "markdown",
      "metadata": {
        "id": "MAHJ2BD39V96"
      },
      "source": [
        "#Question\n",
        "Is there a correlation between rating and and delivery rating field.If yes, what kind of correlation can be noticed? "
      ]
    },
    {
      "cell_type": "code",
      "metadata": {
        "colab": {
          "base_uri": "https://localhost:8080/",
          "height": 295
        },
        "id": "fUiOz4M19rm_",
        "outputId": "839fd934-b83c-4354-b7e9-022defa1ddff"
      },
      "source": [
        "zomato.describe()"
      ],
      "execution_count": null,
      "outputs": [
        {
          "output_type": "execute_result",
          "data": {
            "text/html": [
              "<div>\n",
              "<style scoped>\n",
              "    .dataframe tbody tr th:only-of-type {\n",
              "        vertical-align: middle;\n",
              "    }\n",
              "\n",
              "    .dataframe tbody tr th {\n",
              "        vertical-align: top;\n",
              "    }\n",
              "\n",
              "    .dataframe thead th {\n",
              "        text-align: right;\n",
              "    }\n",
              "</style>\n",
              "<table border=\"1\" class=\"dataframe\">\n",
              "  <thead>\n",
              "    <tr style=\"text-align: right;\">\n",
              "      <th></th>\n",
              "      <th>Unnamed: 0</th>\n",
              "      <th>Average Cost</th>\n",
              "      <th>Rating</th>\n",
              "      <th>Reviews</th>\n",
              "      <th>Delivery Rating</th>\n",
              "      <th>Delivery Reviews</th>\n",
              "    </tr>\n",
              "  </thead>\n",
              "  <tbody>\n",
              "    <tr>\n",
              "      <th>count</th>\n",
              "      <td>5433.000000</td>\n",
              "      <td>5433.000000</td>\n",
              "      <td>5433.000000</td>\n",
              "      <td>5433.000000</td>\n",
              "      <td>5433.000000</td>\n",
              "      <td>5433.000000</td>\n",
              "    </tr>\n",
              "    <tr>\n",
              "      <th>mean</th>\n",
              "      <td>2716.000000</td>\n",
              "      <td>601.785202</td>\n",
              "      <td>3.663450</td>\n",
              "      <td>450.343641</td>\n",
              "      <td>3.814338</td>\n",
              "      <td>989.238174</td>\n",
              "    </tr>\n",
              "    <tr>\n",
              "      <th>std</th>\n",
              "      <td>1568.516337</td>\n",
              "      <td>474.485786</td>\n",
              "      <td>0.469978</td>\n",
              "      <td>1204.090212</td>\n",
              "      <td>0.236449</td>\n",
              "      <td>2850.416867</td>\n",
              "    </tr>\n",
              "    <tr>\n",
              "      <th>min</th>\n",
              "      <td>0.000000</td>\n",
              "      <td>50.000000</td>\n",
              "      <td>2.000000</td>\n",
              "      <td>0.000000</td>\n",
              "      <td>2.000000</td>\n",
              "      <td>0.000000</td>\n",
              "    </tr>\n",
              "    <tr>\n",
              "      <th>25%</th>\n",
              "      <td>1358.000000</td>\n",
              "      <td>300.000000</td>\n",
              "      <td>3.400000</td>\n",
              "      <td>20.000000</td>\n",
              "      <td>3.800000</td>\n",
              "      <td>49.000000</td>\n",
              "    </tr>\n",
              "    <tr>\n",
              "      <th>50%</th>\n",
              "      <td>2716.000000</td>\n",
              "      <td>400.000000</td>\n",
              "      <td>3.700000</td>\n",
              "      <td>99.000000</td>\n",
              "      <td>3.800000</td>\n",
              "      <td>49.000000</td>\n",
              "    </tr>\n",
              "    <tr>\n",
              "      <th>75%</th>\n",
              "      <td>4074.000000</td>\n",
              "      <td>700.000000</td>\n",
              "      <td>4.000000</td>\n",
              "      <td>377.000000</td>\n",
              "      <td>3.900000</td>\n",
              "      <td>595.000000</td>\n",
              "    </tr>\n",
              "    <tr>\n",
              "      <th>max</th>\n",
              "      <td>5432.000000</td>\n",
              "      <td>4300.000000</td>\n",
              "      <td>4.900000</td>\n",
              "      <td>20800.000000</td>\n",
              "      <td>4.800000</td>\n",
              "      <td>54500.000000</td>\n",
              "    </tr>\n",
              "  </tbody>\n",
              "</table>\n",
              "</div>"
            ],
            "text/plain": [
              "        Unnamed: 0  Average Cost  ...  Delivery Rating  Delivery Reviews\n",
              "count  5433.000000   5433.000000  ...      5433.000000       5433.000000\n",
              "mean   2716.000000    601.785202  ...         3.814338        989.238174\n",
              "std    1568.516337    474.485786  ...         0.236449       2850.416867\n",
              "min       0.000000     50.000000  ...         2.000000          0.000000\n",
              "25%    1358.000000    300.000000  ...         3.800000         49.000000\n",
              "50%    2716.000000    400.000000  ...         3.800000         49.000000\n",
              "75%    4074.000000    700.000000  ...         3.900000        595.000000\n",
              "max    5432.000000   4300.000000  ...         4.800000      54500.000000\n",
              "\n",
              "[8 rows x 6 columns]"
            ]
          },
          "metadata": {},
          "execution_count": 54
        }
      ]
    },
    {
      "cell_type": "markdown",
      "metadata": {
        "id": "susts5WC-LNT"
      },
      "source": [
        "#Solution\n",
        "From the above table, we know that std of rating is 0.4699 and std of delivery rating is 0.2364"
      ]
    },
    {
      "cell_type": "code",
      "metadata": {
        "colab": {
          "base_uri": "https://localhost:8080/"
        },
        "id": "n05N35ez-ZG7",
        "outputId": "a34b4b54-e667-4272-c668-bfe606b7babf"
      },
      "source": [
        "correl_coeff = 0.4699*0.2364\n",
        "print(correl_coeff)"
      ],
      "execution_count": null,
      "outputs": [
        {
          "output_type": "stream",
          "name": "stdout",
          "text": [
            "0.11108436\n"
          ]
        }
      ]
    },
    {
      "cell_type": "markdown",
      "metadata": {
        "id": "EeBKD8Xn-9QT"
      },
      "source": [
        "- Since the correlation coefficient is 0.111 which is positive but closer to 0, we can say that rating and delivery rating are in weak positive correlation with each other.\n",
        "- Now let us plot a scatterplot for further proof."
      ]
    },
    {
      "cell_type": "code",
      "metadata": {
        "colab": {
          "base_uri": "https://localhost:8080/",
          "height": 386
        },
        "id": "4qedwWqq_VO7",
        "outputId": "f875b6a1-5fc4-49b6-b1f3-b992f94670f2"
      },
      "source": [
        "sns.displot(zomato,x = 'Rating',y = 'Delivery Rating')"
      ],
      "execution_count": null,
      "outputs": [
        {
          "output_type": "execute_result",
          "data": {
            "text/plain": [
              "<seaborn.axisgrid.FacetGrid at 0x7f40cfb74bd0>"
            ]
          },
          "metadata": {},
          "execution_count": 57
        },
        {
          "output_type": "display_data",
          "data": {
            "image/png": "[encoded data removed]",
            "text/plain": [
              "<Figure size 360x360 with 1 Axes>"
            ]
          },
          "metadata": {
            "needs_background": "light"
          }
        }
      ]
    },
    {
      "cell_type": "markdown",
      "metadata": {
        "id": "Amq7H9aA_q9K"
      },
      "source": [
        "#Answer\n",
        "As the chart is highly dispersed yet has a postive slope, we can confidently claim that Rating and Delivery Rating are in weak positive correlation."
      ]
    },
    {
      "cell_type": "markdown",
      "metadata": {
        "id": "lPcG7k9gQ7Gn"
      },
      "source": [
        "#Question\n",
        "What are the different food items in different price ranges that one can consume?"
      ]
    },
    {
      "cell_type": "code",
      "metadata": {
        "colab": {
          "base_uri": "https://localhost:8080/",
          "height": 930
        },
        "id": "HFmNI5lwQ-PP",
        "outputId": "cea9dabf-00f6-4d7e-cdc3-d4ee95d3d674"
      },
      "source": [
        "plt.figure(figsize=(15,15))\n",
        "sns.scatterplot(zomato['Average Cost'],zomato['Cuisine 1']);"
      ],
      "execution_count": null,
      "outputs": [
        {
          "output_type": "stream",
          "name": "stderr",
          "text": [
            "/usr/local/lib/python3.7/dist-packages/seaborn/_decorators.py:43: FutureWarning: Pass the following variables as keyword args: x, y. From version 0.12, the only valid positional argument will be `data`, and passing other arguments without an explicit keyword will result in an error or misinterpretation.\n",
            "  FutureWarning\n"
          ]
        },
        {
          "output_type": "display_data",
          "data": {
            "image/png": "[encoded data removed]",
            "text/plain": [
              "<Figure size 1080x1080 with 1 Axes>"
            ]
          },
          "metadata": {
            "needs_background": "light"
          }
        }
      ]
    },
    {
      "cell_type": "markdown",
      "metadata": {
        "id": "i-4OXrlcRi50"
      },
      "source": [
        "#Answer\n",
        "North Indian, Mediterranean, Finger Food etc. are the cuisines available in a wide variety of price range (cheap as well as expensive) and can cater to large variety of customers while, Tibetan, Gujarati, Ice cream etc. lie in the lower price range and does not have much price variation."
      ]
    },
    {
      "cell_type": "markdown",
      "metadata": {
        "id": "GuzBebwRRro_"
      },
      "source": [
        "#Question\n",
        "Which type of restaurants are generally liked by people?"
      ]
    },
    {
      "cell_type": "code",
      "metadata": {
        "colab": {
          "base_uri": "https://localhost:8080/",
          "height": 863
        },
        "id": "z5g5qJZNRyvJ",
        "outputId": "bc4be987-4780-4d3d-acb4-60b8894c20a3"
      },
      "source": [
        "a=zomato.groupby('Type 1')['Rating'].mean().sort_values(ascending=True)\n",
        "b=zomato.groupby('Type 2')['Rating'].mean().sort_values(ascending=True)\n",
        "fig,axes=plt.subplots(2,1,figsize=(10,15))\n",
        "axes[0].plot(a,a.index,marker='o');\n",
        "axes[1].plot(b,b.index,marker='o');"
      ],
      "execution_count": null,
      "outputs": [
        {
          "output_type": "display_data",
          "data": {
            "image/png": "[encoded data removed]",
            "text/plain": [
              "<Figure size 720x1080 with 2 Axes>"
            ]
          },
          "metadata": {
            "needs_background": "light"
          }
        }
      ]
    },
    {
      "cell_type": "markdown",
      "metadata": {
        "id": "nwWJngaGSOSF"
      },
      "source": [
        "#Answer\n",
        "Among both the types, Fine Dining, Food Trucks, Lounge etc. have received higher ratings and so it is safe to say that they have succeeded to please people. On the other hand, Food Courts, Bakeries, Bars have received average ratings and have scope for improvement."
      ]
    },
    {
      "cell_type": "markdown",
      "metadata": {
        "id": "CEE1ac29SUPu"
      },
      "source": [
        "#Question\n",
        "People in whic area of the city tend to eat out most often?"
      ]
    },
    {
      "cell_type": "code",
      "metadata": {
        "colab": {
          "base_uri": "https://localhost:8080/",
          "height": 351
        },
        "id": "1V5O_nxOSe1y",
        "outputId": "933e87d5-f229-4d8e-f9c4-4b630b5cc762"
      },
      "source": [
        "x = zomato['Area'].value_counts().sort_values(ascending=True)\n",
        "plt.figure(figsize=(5,5))\n",
        "plt.xlabel('No. of Restaurants')\n",
        "plt.plot(x,x.index,marker='o')"
      ],
      "execution_count": null,
      "outputs": [
        {
          "output_type": "execute_result",
          "data": {
            "text/plain": [
              "[<matplotlib.lines.Line2D at 0x7f0acdf4ee90>]"
            ]
          },
          "metadata": {},
          "execution_count": 7
        },
        {
          "output_type": "display_data",
          "data": {
            "image/png": "[encoded data removed]",
            "text/plain": [
              "<Figure size 360x360 with 1 Axes>"
            ]
          },
          "metadata": {
            "needs_background": "light"
          }
        }
      ]
    },
    {
      "cell_type": "markdown",
      "metadata": {
        "id": "TviaHmpPSrqX"
      },
      "source": [
        "#Answer\n",
        "PCMC, Nagar Rd areas have a higher density of restaurants and we can conclude that people living there have a higher frequency of eating out as compared to people living in ShivajiNagar/ Pune City."
      ]
    },
    {
      "cell_type": "markdown",
      "metadata": {
        "id": "KSZsD2Z8SxU_"
      },
      "source": [
        "#Thank You!\n",
        "- That's all for now.\n",
        "- I hope that I have written inferences correctly! "
      ]
    }
  ]
}